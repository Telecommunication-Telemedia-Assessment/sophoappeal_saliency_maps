{
 "cells": [
  {
   "cell_type": "code",
   "execution_count": 1,
   "metadata": {},
   "outputs": [],
   "source": [
    "# ipython\n",
    "%matplotlib inline\n",
    "\n",
    "from IPython.display import display as d\n",
    "import pandas as pd\n",
    "import numpy as np\n",
    "import seaborn as sns\n",
    "sns.set(rc={'figure.figsize':(12,12)})\n",
    "sns.set_style(\"white\")\n",
    "import glob\n",
    "import json\n",
    "import os\n",
    "import sys\n",
    "import shutil\n",
    "\n",
    "def save_fig(ax, title, pdfname):\n",
    "    ax.set_title(title)\n",
    "    ax.get_figure().savefig(pdfname, bbox_inches=\"tight\")\n",
    "\n"
   ]
  },
  {
   "cell_type": "code",
   "execution_count": 2,
   "metadata": {},
   "outputs": [
    {
     "data": {
      "text/html": [
       "<div>\n",
       "<style scoped>\n",
       "    .dataframe tbody tr th:only-of-type {\n",
       "        vertical-align: middle;\n",
       "    }\n",
       "\n",
       "    .dataframe tbody tr th {\n",
       "        vertical-align: top;\n",
       "    }\n",
       "\n",
       "    .dataframe thead th {\n",
       "        text-align: right;\n",
       "    }\n",
       "</style>\n",
       "<table border=\"1\" class=\"dataframe\">\n",
       "  <thead>\n",
       "    <tr style=\"text-align: right;\">\n",
       "      <th></th>\n",
       "      <th>connected_components</th>\n",
       "      <th>image</th>\n",
       "      <th>mean_saliency</th>\n",
       "      <th>std_saliency</th>\n",
       "    </tr>\n",
       "  </thead>\n",
       "  <tbody>\n",
       "    <tr>\n",
       "      <th>0</th>\n",
       "      <td>3</td>\n",
       "      <td>deepgaze_II/500px_cc0/100327907_some_days_in_w...</td>\n",
       "      <td>0.018443</td>\n",
       "      <td>0.134547</td>\n",
       "    </tr>\n",
       "    <tr>\n",
       "      <th>1</th>\n",
       "      <td>2</td>\n",
       "      <td>deepgaze_II/500px_cc0/1003502191_Flat_lay_of_b...</td>\n",
       "      <td>0.001710</td>\n",
       "      <td>0.041320</td>\n",
       "    </tr>\n",
       "    <tr>\n",
       "      <th>2</th>\n",
       "      <td>2</td>\n",
       "      <td>deepgaze_II/500px_cc0/1011015162_Anemone-.png</td>\n",
       "      <td>0.017187</td>\n",
       "      <td>0.129970</td>\n",
       "    </tr>\n",
       "    <tr>\n",
       "      <th>3</th>\n",
       "      <td>2</td>\n",
       "      <td>deepgaze_II/500px_cc0/1011015165_Anemone-.png</td>\n",
       "      <td>0.002757</td>\n",
       "      <td>0.052438</td>\n",
       "    </tr>\n",
       "    <tr>\n",
       "      <th>4</th>\n",
       "      <td>2</td>\n",
       "      <td>deepgaze_II/500px_cc0/1011015217_Anemone-.png</td>\n",
       "      <td>0.004940</td>\n",
       "      <td>0.070113</td>\n",
       "    </tr>\n",
       "    <tr>\n",
       "      <th>...</th>\n",
       "      <td>...</td>\n",
       "      <td>...</td>\n",
       "      <td>...</td>\n",
       "      <td>...</td>\n",
       "    </tr>\n",
       "    <tr>\n",
       "      <th>1024</th>\n",
       "      <td>2</td>\n",
       "      <td>deepgaze_II/pixabay_first50k/woman-3585065.png</td>\n",
       "      <td>0.002280</td>\n",
       "      <td>0.047694</td>\n",
       "    </tr>\n",
       "    <tr>\n",
       "      <th>1025</th>\n",
       "      <td>2</td>\n",
       "      <td>deepgaze_II/pixabay_first50k/woman-3895501.png</td>\n",
       "      <td>0.007009</td>\n",
       "      <td>0.083425</td>\n",
       "    </tr>\n",
       "    <tr>\n",
       "      <th>1026</th>\n",
       "      <td>4</td>\n",
       "      <td>deepgaze_II/pixabay_first50k/woman-5341680.png</td>\n",
       "      <td>0.007843</td>\n",
       "      <td>0.088213</td>\n",
       "    </tr>\n",
       "    <tr>\n",
       "      <th>1027</th>\n",
       "      <td>2</td>\n",
       "      <td>deepgaze_II/pixabay_first50k/women-1209678.png</td>\n",
       "      <td>0.002543</td>\n",
       "      <td>0.050365</td>\n",
       "    </tr>\n",
       "    <tr>\n",
       "      <th>1028</th>\n",
       "      <td>4</td>\n",
       "      <td>deepgaze_II/pixabay_first50k/women-816255.png</td>\n",
       "      <td>0.004395</td>\n",
       "      <td>0.066145</td>\n",
       "    </tr>\n",
       "  </tbody>\n",
       "</table>\n",
       "<p>1029 rows × 4 columns</p>\n",
       "</div>"
      ],
      "text/plain": [
       "      connected_components                                              image  \\\n",
       "0                        3  deepgaze_II/500px_cc0/100327907_some_days_in_w...   \n",
       "1                        2  deepgaze_II/500px_cc0/1003502191_Flat_lay_of_b...   \n",
       "2                        2      deepgaze_II/500px_cc0/1011015162_Anemone-.png   \n",
       "3                        2      deepgaze_II/500px_cc0/1011015165_Anemone-.png   \n",
       "4                        2      deepgaze_II/500px_cc0/1011015217_Anemone-.png   \n",
       "...                    ...                                                ...   \n",
       "1024                     2     deepgaze_II/pixabay_first50k/woman-3585065.png   \n",
       "1025                     2     deepgaze_II/pixabay_first50k/woman-3895501.png   \n",
       "1026                     4     deepgaze_II/pixabay_first50k/woman-5341680.png   \n",
       "1027                     2     deepgaze_II/pixabay_first50k/women-1209678.png   \n",
       "1028                     4      deepgaze_II/pixabay_first50k/women-816255.png   \n",
       "\n",
       "      mean_saliency  std_saliency  \n",
       "0          0.018443      0.134547  \n",
       "1          0.001710      0.041320  \n",
       "2          0.017187      0.129970  \n",
       "3          0.002757      0.052438  \n",
       "4          0.004940      0.070113  \n",
       "...             ...           ...  \n",
       "1024       0.002280      0.047694  \n",
       "1025       0.007009      0.083425  \n",
       "1026       0.007843      0.088213  \n",
       "1027       0.002543      0.050365  \n",
       "1028       0.004395      0.066145  \n",
       "\n",
       "[1029 rows x 4 columns]"
      ]
     },
     "metadata": {},
     "output_type": "display_data"
    }
   ],
   "source": [
    "ddeepgaze = pd.read_json(\"deepgaze_II.json\")\n",
    "d(ddeepgaze)"
   ]
  },
  {
   "cell_type": "code",
   "execution_count": 3,
   "metadata": {},
   "outputs": [
    {
     "data": {
      "image/png": "[encoded data removed]",
      "text/plain": [
       "<Figure size 432x144 with 1 Axes>"
      ]
     },
     "metadata": {},
     "output_type": "display_data"
    }
   ],
   "source": [
    "sns.set(rc={'figure.figsize':(6,2)})\n",
    "sns.set_style(\"white\")\n",
    "ax = sns.boxplot(x=\"mean_saliency\", data=ddeepgaze, color=\"red\")\n",
    "\n",
    "save_fig(ax, \"mean_saliency deepganze II\", \"mean_saliency_deepgaze_II.pdf\")"
   ]
  },
  {
   "cell_type": "code",
   "execution_count": 6,
   "metadata": {},
   "outputs": [
    {
     "data": {
      "image/png": "[encoded data removed]",
      "text/plain": [
       "<Figure size 432x144 with 1 Axes>"
      ]
     },
     "metadata": {},
     "output_type": "display_data"
    }
   ],
   "source": [
    "ax = sns.boxplot(x=\"std_saliency\", data=ddeepgaze, color=\"blue\")\n",
    "save_fig(ax, \"std_saliency deepgaze II\", \"std_saliency_deepgaze_II.pdf\")"
   ]
  },
  {
   "cell_type": "code",
   "execution_count": 11,
   "metadata": {},
   "outputs": [
    {
     "data": {
      "image/png": "[encoded data removed]",
      "text/plain": [
       "<Figure size 432x144 with 1 Axes>"
      ]
     },
     "metadata": {},
     "output_type": "display_data"
    }
   ],
   "source": [
    "ax = sns.countplot(x=\"connected_components\", data=ddeepgaze, color=\"cyan\")\n",
    "save_fig(ax, \"connected_components deepgaze II\", \"connected_components_deepgaze_II.pdf\")"
   ]
  },
  {
   "cell_type": "code",
   "execution_count": 10,
   "metadata": {},
   "outputs": [
    {
     "data": {
      "text/html": [
       "<div>\n",
       "<style scoped>\n",
       "    .dataframe tbody tr th:only-of-type {\n",
       "        vertical-align: middle;\n",
       "    }\n",
       "\n",
       "    .dataframe tbody tr th {\n",
       "        vertical-align: top;\n",
       "    }\n",
       "\n",
       "    .dataframe thead th {\n",
       "        text-align: right;\n",
       "    }\n",
       "</style>\n",
       "<table border=\"1\" class=\"dataframe\">\n",
       "  <thead>\n",
       "    <tr style=\"text-align: right;\">\n",
       "      <th></th>\n",
       "      <th>connected_components</th>\n",
       "      <th>image</th>\n",
       "      <th>mean_saliency</th>\n",
       "      <th>std_saliency</th>\n",
       "    </tr>\n",
       "  </thead>\n",
       "  <tbody>\n",
       "    <tr>\n",
       "      <th>0</th>\n",
       "      <td>73</td>\n",
       "      <td>unisal/500px_cc0/100327907_some_days_in_winter...</td>\n",
       "      <td>0.160042</td>\n",
       "      <td>0.366645</td>\n",
       "    </tr>\n",
       "    <tr>\n",
       "      <th>1</th>\n",
       "      <td>2</td>\n",
       "      <td>unisal/500px_cc0/1003502191_Flat_lay_of_busine...</td>\n",
       "      <td>0.006744</td>\n",
       "      <td>0.081845</td>\n",
       "    </tr>\n",
       "    <tr>\n",
       "      <th>2</th>\n",
       "      <td>18</td>\n",
       "      <td>unisal/500px_cc0/1011015162_Anemone-.jpg</td>\n",
       "      <td>0.023652</td>\n",
       "      <td>0.151962</td>\n",
       "    </tr>\n",
       "    <tr>\n",
       "      <th>3</th>\n",
       "      <td>2</td>\n",
       "      <td>unisal/500px_cc0/1011015165_Anemone-.jpg</td>\n",
       "      <td>0.008461</td>\n",
       "      <td>0.091594</td>\n",
       "    </tr>\n",
       "    <tr>\n",
       "      <th>4</th>\n",
       "      <td>14</td>\n",
       "      <td>unisal/500px_cc0/1011015217_Anemone-.jpg</td>\n",
       "      <td>0.021157</td>\n",
       "      <td>0.143909</td>\n",
       "    </tr>\n",
       "    <tr>\n",
       "      <th>...</th>\n",
       "      <td>...</td>\n",
       "      <td>...</td>\n",
       "      <td>...</td>\n",
       "      <td>...</td>\n",
       "    </tr>\n",
       "    <tr>\n",
       "      <th>1056</th>\n",
       "      <td>2</td>\n",
       "      <td>unisal/pixabay_first50k/woman-3585065.jpg</td>\n",
       "      <td>0.007547</td>\n",
       "      <td>0.086543</td>\n",
       "    </tr>\n",
       "    <tr>\n",
       "      <th>1057</th>\n",
       "      <td>3</td>\n",
       "      <td>unisal/pixabay_first50k/woman-3895501.jpg</td>\n",
       "      <td>0.045009</td>\n",
       "      <td>0.207325</td>\n",
       "    </tr>\n",
       "    <tr>\n",
       "      <th>1058</th>\n",
       "      <td>3</td>\n",
       "      <td>unisal/pixabay_first50k/woman-5341680.jpg</td>\n",
       "      <td>0.015739</td>\n",
       "      <td>0.124462</td>\n",
       "    </tr>\n",
       "    <tr>\n",
       "      <th>1059</th>\n",
       "      <td>3</td>\n",
       "      <td>unisal/pixabay_first50k/women-1209678.jpg</td>\n",
       "      <td>0.016106</td>\n",
       "      <td>0.125883</td>\n",
       "    </tr>\n",
       "    <tr>\n",
       "      <th>1060</th>\n",
       "      <td>2</td>\n",
       "      <td>unisal/pixabay_first50k/women-816255.jpg</td>\n",
       "      <td>0.029717</td>\n",
       "      <td>0.169805</td>\n",
       "    </tr>\n",
       "  </tbody>\n",
       "</table>\n",
       "<p>1061 rows × 4 columns</p>\n",
       "</div>"
      ],
      "text/plain": [
       "      connected_components                                              image  \\\n",
       "0                       73  unisal/500px_cc0/100327907_some_days_in_winter...   \n",
       "1                        2  unisal/500px_cc0/1003502191_Flat_lay_of_busine...   \n",
       "2                       18           unisal/500px_cc0/1011015162_Anemone-.jpg   \n",
       "3                        2           unisal/500px_cc0/1011015165_Anemone-.jpg   \n",
       "4                       14           unisal/500px_cc0/1011015217_Anemone-.jpg   \n",
       "...                    ...                                                ...   \n",
       "1056                     2          unisal/pixabay_first50k/woman-3585065.jpg   \n",
       "1057                     3          unisal/pixabay_first50k/woman-3895501.jpg   \n",
       "1058                     3          unisal/pixabay_first50k/woman-5341680.jpg   \n",
       "1059                     3          unisal/pixabay_first50k/women-1209678.jpg   \n",
       "1060                     2           unisal/pixabay_first50k/women-816255.jpg   \n",
       "\n",
       "      mean_saliency  std_saliency  \n",
       "0          0.160042      0.366645  \n",
       "1          0.006744      0.081845  \n",
       "2          0.023652      0.151962  \n",
       "3          0.008461      0.091594  \n",
       "4          0.021157      0.143909  \n",
       "...             ...           ...  \n",
       "1056       0.007547      0.086543  \n",
       "1057       0.045009      0.207325  \n",
       "1058       0.015739      0.124462  \n",
       "1059       0.016106      0.125883  \n",
       "1060       0.029717      0.169805  \n",
       "\n",
       "[1061 rows x 4 columns]"
      ]
     },
     "metadata": {},
     "output_type": "display_data"
    }
   ],
   "source": [
    "dunisal = pd.read_json(\"unisal.json\")\n",
    "d(dunisal)"
   ]
  },
  {
   "cell_type": "code",
   "execution_count": 12,
   "metadata": {},
   "outputs": [
    {
     "data": {
      "image/png": "[encoded data removed]",
      "text/plain": [
       "<Figure size 432x144 with 1 Axes>"
      ]
     },
     "metadata": {},
     "output_type": "display_data"
    }
   ],
   "source": [
    "sns.set(rc={'figure.figsize':(6,2)})\n",
    "sns.set_style(\"white\")\n",
    "ax = sns.boxplot(x=\"mean_saliency\", data=dunisal, color=\"red\")\n",
    "\n",
    "save_fig(ax, \"mean_saliency unisal\", \"mean_saliency_unisal.pdf\")"
   ]
  },
  {
   "cell_type": "code",
   "execution_count": 13,
   "metadata": {},
   "outputs": [
    {
     "data": {
      "image/png": "[encoded data removed]",
      "text/plain": [
       "<Figure size 432x144 with 1 Axes>"
      ]
     },
     "metadata": {},
     "output_type": "display_data"
    }
   ],
   "source": [
    "ax = sns.boxplot(x=\"std_saliency\", data=dunisal, color=\"blue\")\n",
    "save_fig(ax, \"std_saliency unisal\", \"std_saliency_unisal.pdf\")"
   ]
  },
  {
   "cell_type": "code",
   "execution_count": 25,
   "metadata": {},
   "outputs": [
    {
     "data": {
      "image/png": "[encoded data removed]",
      "text/plain": [
       "<Figure size 432x144 with 1 Axes>"
      ]
     },
     "metadata": {},
     "output_type": "display_data"
    }
   ],
   "source": [
    "ax = sns.countplot(x=\"connected_components\", data=dunisal[dunisal[\"connected_components\"] < 20], color=\"cyan\")\n",
    "save_fig(ax, \"connected_components unisal; only < 20 components\", \"connected_components_unisal.pdf\")"
   ]
  }
 ],
 "metadata": {
  "kernelspec": {
   "display_name": "Python 3 (ipykernel)",
   "language": "python",
   "name": "python3"
  },
  "language_info": {
   "codemirror_mode": {
    "name": "ipython",
    "version": 3
   },
   "file_extension": ".py",
   "mimetype": "text/x-python",
   "name": "python",
   "nbconvert_exporter": "python",
   "pygments_lexer": "ipython3",
   "version": "3.8.10"
  }
 },
 "nbformat": 4,
 "nbformat_minor": 4
}
